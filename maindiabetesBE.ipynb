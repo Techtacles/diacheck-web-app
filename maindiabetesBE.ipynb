{
 "cells": [
  {
   "cell_type": "markdown",
   "metadata": {},
   "source": [
    "GET DATA SET"
   ]
  },
  {
   "cell_type": "code",
   "execution_count": 1,
   "metadata": {},
   "outputs": [],
   "source": [
    "#Python Libraries \n",
    "import pandas as pd #Data Processing and CSV file I/o\n",
    "import numpy as np #for numeric operations\n",
    "import matplotlib.pyplot as plt\n",
    "import seaborn as sns\n",
    "import warnings\n",
    "warnings.filterwarnings('ignore')\n",
    "\n",
    "#spliting and scaling the data\n",
    "from sklearn.model_selection import train_test_split\n",
    "from sklearn.preprocessing import StandardScaler\n",
    "\n",
    "# Using Ensemble method to predict diabetes\n",
    "from sklearn.naive_bayes import GaussianNB\n",
    "from sklearn.tree import DecisionTreeClassifier\n",
    "from sklearn.neighbors import KNeighborsClassifier\n",
    "from sklearn.ensemble import RandomForestClassifier\n",
    "from sklearn.svm import SVC\n",
    "from sklearn.ensemble import VotingClassifier\n",
    "\n",
    "#metric\n",
    "from sklearn.model_selection import cross_val_score\n",
    "from sklearn.metrics import classification_report, accuracy_score\n",
    "from sklearn.metrics import confusion_matrix, classification_report\n",
    "from sklearn.metrics import precision_score, recall_score, f1_score\n",
    "\n",
    "#for warning\n",
    "from warnings import filterwarnings\n",
    "filterwarnings(\"ignore\")  ## To remove any kind of warning"
   ]
  },
  {
   "cell_type": "code",
   "execution_count": 2,
   "metadata": {},
   "outputs": [],
   "source": [
    "diabetes_dataset = pd.read_csv('diabetes_binary_5050split_health_indicators_BRFSS2015.csv')"
   ]
  },
  {
   "cell_type": "code",
   "execution_count": 3,
   "metadata": {},
   "outputs": [
    {
     "data": {
      "text/plain": [
       "(70692, 22)"
      ]
     },
     "execution_count": 3,
     "metadata": {},
     "output_type": "execute_result"
    }
   ],
   "source": [
    "#How many rows and columns\n",
    "diabetes_dataset.shape"
   ]
  },
  {
   "cell_type": "code",
   "execution_count": 4,
   "metadata": {},
   "outputs": [
    {
     "data": {
      "text/html": [
       "<div>\n",
       "<style scoped>\n",
       "    .dataframe tbody tr th:only-of-type {\n",
       "        vertical-align: middle;\n",
       "    }\n",
       "\n",
       "    .dataframe tbody tr th {\n",
       "        vertical-align: top;\n",
       "    }\n",
       "\n",
       "    .dataframe thead th {\n",
       "        text-align: right;\n",
       "    }\n",
       "</style>\n",
       "<table border=\"1\" class=\"dataframe\">\n",
       "  <thead>\n",
       "    <tr style=\"text-align: right;\">\n",
       "      <th></th>\n",
       "      <th>Diabetes_binary</th>\n",
       "      <th>HighBP</th>\n",
       "      <th>HighChol</th>\n",
       "      <th>CholCheck</th>\n",
       "      <th>BMI</th>\n",
       "      <th>Smoker</th>\n",
       "      <th>Stroke</th>\n",
       "      <th>HeartDiseaseorAttack</th>\n",
       "      <th>PhysActivity</th>\n",
       "      <th>Fruits</th>\n",
       "      <th>...</th>\n",
       "      <th>AnyHealthcare</th>\n",
       "      <th>NoDocbcCost</th>\n",
       "      <th>GenHlth</th>\n",
       "      <th>MentHlth</th>\n",
       "      <th>PhysHlth</th>\n",
       "      <th>DiffWalk</th>\n",
       "      <th>Sex</th>\n",
       "      <th>Age</th>\n",
       "      <th>Education</th>\n",
       "      <th>Income</th>\n",
       "    </tr>\n",
       "  </thead>\n",
       "  <tbody>\n",
       "    <tr>\n",
       "      <th>0</th>\n",
       "      <td>0.0</td>\n",
       "      <td>1.0</td>\n",
       "      <td>0.0</td>\n",
       "      <td>1.0</td>\n",
       "      <td>26.0</td>\n",
       "      <td>0.0</td>\n",
       "      <td>0.0</td>\n",
       "      <td>0.0</td>\n",
       "      <td>1.0</td>\n",
       "      <td>0.0</td>\n",
       "      <td>...</td>\n",
       "      <td>1.0</td>\n",
       "      <td>0.0</td>\n",
       "      <td>3.0</td>\n",
       "      <td>5.0</td>\n",
       "      <td>30.0</td>\n",
       "      <td>0.0</td>\n",
       "      <td>1.0</td>\n",
       "      <td>4.0</td>\n",
       "      <td>6.0</td>\n",
       "      <td>8.0</td>\n",
       "    </tr>\n",
       "    <tr>\n",
       "      <th>1</th>\n",
       "      <td>0.0</td>\n",
       "      <td>1.0</td>\n",
       "      <td>1.0</td>\n",
       "      <td>1.0</td>\n",
       "      <td>26.0</td>\n",
       "      <td>1.0</td>\n",
       "      <td>1.0</td>\n",
       "      <td>0.0</td>\n",
       "      <td>0.0</td>\n",
       "      <td>1.0</td>\n",
       "      <td>...</td>\n",
       "      <td>1.0</td>\n",
       "      <td>0.0</td>\n",
       "      <td>3.0</td>\n",
       "      <td>0.0</td>\n",
       "      <td>0.0</td>\n",
       "      <td>0.0</td>\n",
       "      <td>1.0</td>\n",
       "      <td>12.0</td>\n",
       "      <td>6.0</td>\n",
       "      <td>8.0</td>\n",
       "    </tr>\n",
       "    <tr>\n",
       "      <th>2</th>\n",
       "      <td>0.0</td>\n",
       "      <td>0.0</td>\n",
       "      <td>0.0</td>\n",
       "      <td>1.0</td>\n",
       "      <td>26.0</td>\n",
       "      <td>0.0</td>\n",
       "      <td>0.0</td>\n",
       "      <td>0.0</td>\n",
       "      <td>1.0</td>\n",
       "      <td>1.0</td>\n",
       "      <td>...</td>\n",
       "      <td>1.0</td>\n",
       "      <td>0.0</td>\n",
       "      <td>1.0</td>\n",
       "      <td>0.0</td>\n",
       "      <td>10.0</td>\n",
       "      <td>0.0</td>\n",
       "      <td>1.0</td>\n",
       "      <td>13.0</td>\n",
       "      <td>6.0</td>\n",
       "      <td>8.0</td>\n",
       "    </tr>\n",
       "    <tr>\n",
       "      <th>3</th>\n",
       "      <td>0.0</td>\n",
       "      <td>1.0</td>\n",
       "      <td>1.0</td>\n",
       "      <td>1.0</td>\n",
       "      <td>28.0</td>\n",
       "      <td>1.0</td>\n",
       "      <td>0.0</td>\n",
       "      <td>0.0</td>\n",
       "      <td>1.0</td>\n",
       "      <td>1.0</td>\n",
       "      <td>...</td>\n",
       "      <td>1.0</td>\n",
       "      <td>0.0</td>\n",
       "      <td>3.0</td>\n",
       "      <td>0.0</td>\n",
       "      <td>3.0</td>\n",
       "      <td>0.0</td>\n",
       "      <td>1.0</td>\n",
       "      <td>11.0</td>\n",
       "      <td>6.0</td>\n",
       "      <td>8.0</td>\n",
       "    </tr>\n",
       "    <tr>\n",
       "      <th>4</th>\n",
       "      <td>0.0</td>\n",
       "      <td>0.0</td>\n",
       "      <td>0.0</td>\n",
       "      <td>1.0</td>\n",
       "      <td>29.0</td>\n",
       "      <td>1.0</td>\n",
       "      <td>0.0</td>\n",
       "      <td>0.0</td>\n",
       "      <td>1.0</td>\n",
       "      <td>1.0</td>\n",
       "      <td>...</td>\n",
       "      <td>1.0</td>\n",
       "      <td>0.0</td>\n",
       "      <td>2.0</td>\n",
       "      <td>0.0</td>\n",
       "      <td>0.0</td>\n",
       "      <td>0.0</td>\n",
       "      <td>0.0</td>\n",
       "      <td>8.0</td>\n",
       "      <td>5.0</td>\n",
       "      <td>8.0</td>\n",
       "    </tr>\n",
       "  </tbody>\n",
       "</table>\n",
       "<p>5 rows × 22 columns</p>\n",
       "</div>"
      ],
      "text/plain": [
       "   Diabetes_binary  HighBP  HighChol  CholCheck   BMI  Smoker  Stroke  \\\n",
       "0              0.0     1.0       0.0        1.0  26.0     0.0     0.0   \n",
       "1              0.0     1.0       1.0        1.0  26.0     1.0     1.0   \n",
       "2              0.0     0.0       0.0        1.0  26.0     0.0     0.0   \n",
       "3              0.0     1.0       1.0        1.0  28.0     1.0     0.0   \n",
       "4              0.0     0.0       0.0        1.0  29.0     1.0     0.0   \n",
       "\n",
       "   HeartDiseaseorAttack  PhysActivity  Fruits  ...  AnyHealthcare  \\\n",
       "0                   0.0           1.0     0.0  ...            1.0   \n",
       "1                   0.0           0.0     1.0  ...            1.0   \n",
       "2                   0.0           1.0     1.0  ...            1.0   \n",
       "3                   0.0           1.0     1.0  ...            1.0   \n",
       "4                   0.0           1.0     1.0  ...            1.0   \n",
       "\n",
       "   NoDocbcCost  GenHlth  MentHlth  PhysHlth  DiffWalk  Sex   Age  Education  \\\n",
       "0          0.0      3.0       5.0      30.0       0.0  1.0   4.0        6.0   \n",
       "1          0.0      3.0       0.0       0.0       0.0  1.0  12.0        6.0   \n",
       "2          0.0      1.0       0.0      10.0       0.0  1.0  13.0        6.0   \n",
       "3          0.0      3.0       0.0       3.0       0.0  1.0  11.0        6.0   \n",
       "4          0.0      2.0       0.0       0.0       0.0  0.0   8.0        5.0   \n",
       "\n",
       "   Income  \n",
       "0     8.0  \n",
       "1     8.0  \n",
       "2     8.0  \n",
       "3     8.0  \n",
       "4     8.0  \n",
       "\n",
       "[5 rows x 22 columns]"
      ]
     },
     "execution_count": 4,
     "metadata": {},
     "output_type": "execute_result"
    }
   ],
   "source": [
    "diabetes_dataset.head()"
   ]
  },
  {
   "cell_type": "code",
   "execution_count": 3,
   "metadata": {},
   "outputs": [
    {
     "data": {
      "text/plain": [
       "(70692, 11)"
      ]
     },
     "execution_count": 3,
     "metadata": {},
     "output_type": "execute_result"
    }
   ],
   "source": [
    "# select specific columns\n",
    "diabetes_selected = diabetes_dataset[['HighBP','HighChol','Smoker','Age','Sex','BMI','Fruits','HvyAlcoholConsump','HeartDiseaseorAttack','PhysActivity','Diabetes_binary']]\n",
    "diabetes_selected.shape"
   ]
  },
  {
   "cell_type": "code",
   "execution_count": 5,
   "metadata": {},
   "outputs": [
    {
     "data": {
      "text/html": [
       "<div>\n",
       "<style scoped>\n",
       "    .dataframe tbody tr th:only-of-type {\n",
       "        vertical-align: middle;\n",
       "    }\n",
       "\n",
       "    .dataframe tbody tr th {\n",
       "        vertical-align: top;\n",
       "    }\n",
       "\n",
       "    .dataframe thead th {\n",
       "        text-align: right;\n",
       "    }\n",
       "</style>\n",
       "<table border=\"1\" class=\"dataframe\">\n",
       "  <thead>\n",
       "    <tr style=\"text-align: right;\">\n",
       "      <th></th>\n",
       "      <th>HighBP</th>\n",
       "      <th>HighChol</th>\n",
       "      <th>Smoker</th>\n",
       "      <th>Age</th>\n",
       "      <th>Sex</th>\n",
       "      <th>BMI</th>\n",
       "      <th>Fruits</th>\n",
       "      <th>HvyAlcoholConsump</th>\n",
       "      <th>HeartDiseaseorAttack</th>\n",
       "      <th>PhysActivity</th>\n",
       "      <th>Diabetes_binary</th>\n",
       "    </tr>\n",
       "  </thead>\n",
       "  <tbody>\n",
       "    <tr>\n",
       "      <th>0</th>\n",
       "      <td>1.0</td>\n",
       "      <td>0.0</td>\n",
       "      <td>0.0</td>\n",
       "      <td>4.0</td>\n",
       "      <td>1.0</td>\n",
       "      <td>26.0</td>\n",
       "      <td>0.0</td>\n",
       "      <td>0.0</td>\n",
       "      <td>0.0</td>\n",
       "      <td>1.0</td>\n",
       "      <td>0.0</td>\n",
       "    </tr>\n",
       "    <tr>\n",
       "      <th>1</th>\n",
       "      <td>1.0</td>\n",
       "      <td>1.0</td>\n",
       "      <td>1.0</td>\n",
       "      <td>12.0</td>\n",
       "      <td>1.0</td>\n",
       "      <td>26.0</td>\n",
       "      <td>1.0</td>\n",
       "      <td>0.0</td>\n",
       "      <td>0.0</td>\n",
       "      <td>0.0</td>\n",
       "      <td>0.0</td>\n",
       "    </tr>\n",
       "    <tr>\n",
       "      <th>2</th>\n",
       "      <td>0.0</td>\n",
       "      <td>0.0</td>\n",
       "      <td>0.0</td>\n",
       "      <td>13.0</td>\n",
       "      <td>1.0</td>\n",
       "      <td>26.0</td>\n",
       "      <td>1.0</td>\n",
       "      <td>0.0</td>\n",
       "      <td>0.0</td>\n",
       "      <td>1.0</td>\n",
       "      <td>0.0</td>\n",
       "    </tr>\n",
       "    <tr>\n",
       "      <th>3</th>\n",
       "      <td>1.0</td>\n",
       "      <td>1.0</td>\n",
       "      <td>1.0</td>\n",
       "      <td>11.0</td>\n",
       "      <td>1.0</td>\n",
       "      <td>28.0</td>\n",
       "      <td>1.0</td>\n",
       "      <td>0.0</td>\n",
       "      <td>0.0</td>\n",
       "      <td>1.0</td>\n",
       "      <td>0.0</td>\n",
       "    </tr>\n",
       "    <tr>\n",
       "      <th>4</th>\n",
       "      <td>0.0</td>\n",
       "      <td>0.0</td>\n",
       "      <td>1.0</td>\n",
       "      <td>8.0</td>\n",
       "      <td>0.0</td>\n",
       "      <td>29.0</td>\n",
       "      <td>1.0</td>\n",
       "      <td>0.0</td>\n",
       "      <td>0.0</td>\n",
       "      <td>1.0</td>\n",
       "      <td>0.0</td>\n",
       "    </tr>\n",
       "  </tbody>\n",
       "</table>\n",
       "</div>"
      ],
      "text/plain": [
       "   HighBP  HighChol  Smoker   Age  Sex   BMI  Fruits  HvyAlcoholConsump  \\\n",
       "0     1.0       0.0     0.0   4.0  1.0  26.0     0.0                0.0   \n",
       "1     1.0       1.0     1.0  12.0  1.0  26.0     1.0                0.0   \n",
       "2     0.0       0.0     0.0  13.0  1.0  26.0     1.0                0.0   \n",
       "3     1.0       1.0     1.0  11.0  1.0  28.0     1.0                0.0   \n",
       "4     0.0       0.0     1.0   8.0  0.0  29.0     1.0                0.0   \n",
       "\n",
       "   HeartDiseaseorAttack  PhysActivity  Diabetes_binary  \n",
       "0                   0.0           1.0              0.0  \n",
       "1                   0.0           0.0              0.0  \n",
       "2                   0.0           1.0              0.0  \n",
       "3                   0.0           1.0              0.0  \n",
       "4                   0.0           1.0              0.0  "
      ]
     },
     "execution_count": 5,
     "metadata": {},
     "output_type": "execute_result"
    }
   ],
   "source": [
    "diabetes_selected.head()"
   ]
  },
  {
   "cell_type": "code",
   "execution_count": 4,
   "metadata": {},
   "outputs": [
    {
     "data": {
      "text/plain": [
       "(70692, 11)"
      ]
     },
     "execution_count": 4,
     "metadata": {},
     "output_type": "execute_result"
    }
   ],
   "source": [
    "#Drop Missing Values \n",
    "diabetes_selected = diabetes_selected.dropna()\n",
    "diabetes_selected.shape"
   ]
  },
  {
   "cell_type": "code",
   "execution_count": 8,
   "metadata": {},
   "outputs": [
    {
     "data": {
      "text/plain": [
       "Diabetes_binary\n",
       "0.0    35346\n",
       "1.0    35346\n",
       "dtype: int64"
      ]
     },
     "execution_count": 8,
     "metadata": {},
     "output_type": "execute_result"
    }
   ],
   "source": [
    "#Check how many respondents have no diabetes or diabetes.\n",
    "diabetes_selected.groupby(['Diabetes_binary']).size()\n"
   ]
  },
  {
   "cell_type": "code",
   "execution_count": 9,
   "metadata": {},
   "outputs": [
    {
     "name": "stdout",
     "output_type": "stream",
     "text": [
      "<class 'pandas.core.frame.DataFrame'>\n",
      "Int64Index: 70692 entries, 0 to 70691\n",
      "Data columns (total 11 columns):\n",
      " #   Column                Non-Null Count  Dtype  \n",
      "---  ------                --------------  -----  \n",
      " 0   HighBP                70692 non-null  float64\n",
      " 1   HighChol              70692 non-null  float64\n",
      " 2   Smoker                70692 non-null  float64\n",
      " 3   Age                   70692 non-null  float64\n",
      " 4   Sex                   70692 non-null  float64\n",
      " 5   BMI                   70692 non-null  float64\n",
      " 6   Fruits                70692 non-null  float64\n",
      " 7   HvyAlcoholConsump     70692 non-null  float64\n",
      " 8   HeartDiseaseorAttack  70692 non-null  float64\n",
      " 9   PhysActivity          70692 non-null  float64\n",
      " 10  Diabetes_binary       70692 non-null  float64\n",
      "dtypes: float64(11)\n",
      "memory usage: 6.5 MB\n"
     ]
    }
   ],
   "source": [
    "#Checking for Data type of columns\n",
    "diabetes_selected.info()"
   ]
  },
  {
   "cell_type": "code",
   "execution_count": 10,
   "metadata": {},
   "outputs": [
    {
     "data": {
      "text/html": [
       "<div>\n",
       "<style scoped>\n",
       "    .dataframe tbody tr th:only-of-type {\n",
       "        vertical-align: middle;\n",
       "    }\n",
       "\n",
       "    .dataframe tbody tr th {\n",
       "        vertical-align: top;\n",
       "    }\n",
       "\n",
       "    .dataframe thead th {\n",
       "        text-align: right;\n",
       "    }\n",
       "</style>\n",
       "<table border=\"1\" class=\"dataframe\">\n",
       "  <thead>\n",
       "    <tr style=\"text-align: right;\">\n",
       "      <th></th>\n",
       "      <th>HighBP</th>\n",
       "      <th>HighChol</th>\n",
       "      <th>Smoker</th>\n",
       "      <th>Age</th>\n",
       "      <th>Sex</th>\n",
       "      <th>BMI</th>\n",
       "      <th>Fruits</th>\n",
       "      <th>HvyAlcoholConsump</th>\n",
       "      <th>HeartDiseaseorAttack</th>\n",
       "      <th>PhysActivity</th>\n",
       "      <th>Diabetes_binary</th>\n",
       "    </tr>\n",
       "  </thead>\n",
       "  <tbody>\n",
       "    <tr>\n",
       "      <th>count</th>\n",
       "      <td>70692.000000</td>\n",
       "      <td>70692.000000</td>\n",
       "      <td>70692.000000</td>\n",
       "      <td>70692.000000</td>\n",
       "      <td>70692.000000</td>\n",
       "      <td>70692.000000</td>\n",
       "      <td>70692.000000</td>\n",
       "      <td>70692.000000</td>\n",
       "      <td>70692.000000</td>\n",
       "      <td>70692.000000</td>\n",
       "      <td>70692.000000</td>\n",
       "    </tr>\n",
       "    <tr>\n",
       "      <th>mean</th>\n",
       "      <td>0.563458</td>\n",
       "      <td>0.525703</td>\n",
       "      <td>0.475273</td>\n",
       "      <td>8.584055</td>\n",
       "      <td>0.456997</td>\n",
       "      <td>29.856985</td>\n",
       "      <td>0.611795</td>\n",
       "      <td>0.042721</td>\n",
       "      <td>0.147810</td>\n",
       "      <td>0.703036</td>\n",
       "      <td>0.500000</td>\n",
       "    </tr>\n",
       "    <tr>\n",
       "      <th>std</th>\n",
       "      <td>0.495960</td>\n",
       "      <td>0.499342</td>\n",
       "      <td>0.499392</td>\n",
       "      <td>2.852153</td>\n",
       "      <td>0.498151</td>\n",
       "      <td>7.113954</td>\n",
       "      <td>0.487345</td>\n",
       "      <td>0.202228</td>\n",
       "      <td>0.354914</td>\n",
       "      <td>0.456924</td>\n",
       "      <td>0.500004</td>\n",
       "    </tr>\n",
       "    <tr>\n",
       "      <th>min</th>\n",
       "      <td>0.000000</td>\n",
       "      <td>0.000000</td>\n",
       "      <td>0.000000</td>\n",
       "      <td>1.000000</td>\n",
       "      <td>0.000000</td>\n",
       "      <td>12.000000</td>\n",
       "      <td>0.000000</td>\n",
       "      <td>0.000000</td>\n",
       "      <td>0.000000</td>\n",
       "      <td>0.000000</td>\n",
       "      <td>0.000000</td>\n",
       "    </tr>\n",
       "    <tr>\n",
       "      <th>25%</th>\n",
       "      <td>0.000000</td>\n",
       "      <td>0.000000</td>\n",
       "      <td>0.000000</td>\n",
       "      <td>7.000000</td>\n",
       "      <td>0.000000</td>\n",
       "      <td>25.000000</td>\n",
       "      <td>0.000000</td>\n",
       "      <td>0.000000</td>\n",
       "      <td>0.000000</td>\n",
       "      <td>0.000000</td>\n",
       "      <td>0.000000</td>\n",
       "    </tr>\n",
       "    <tr>\n",
       "      <th>50%</th>\n",
       "      <td>1.000000</td>\n",
       "      <td>1.000000</td>\n",
       "      <td>0.000000</td>\n",
       "      <td>9.000000</td>\n",
       "      <td>0.000000</td>\n",
       "      <td>29.000000</td>\n",
       "      <td>1.000000</td>\n",
       "      <td>0.000000</td>\n",
       "      <td>0.000000</td>\n",
       "      <td>1.000000</td>\n",
       "      <td>0.500000</td>\n",
       "    </tr>\n",
       "    <tr>\n",
       "      <th>75%</th>\n",
       "      <td>1.000000</td>\n",
       "      <td>1.000000</td>\n",
       "      <td>1.000000</td>\n",
       "      <td>11.000000</td>\n",
       "      <td>1.000000</td>\n",
       "      <td>33.000000</td>\n",
       "      <td>1.000000</td>\n",
       "      <td>0.000000</td>\n",
       "      <td>0.000000</td>\n",
       "      <td>1.000000</td>\n",
       "      <td>1.000000</td>\n",
       "    </tr>\n",
       "    <tr>\n",
       "      <th>max</th>\n",
       "      <td>1.000000</td>\n",
       "      <td>1.000000</td>\n",
       "      <td>1.000000</td>\n",
       "      <td>13.000000</td>\n",
       "      <td>1.000000</td>\n",
       "      <td>98.000000</td>\n",
       "      <td>1.000000</td>\n",
       "      <td>1.000000</td>\n",
       "      <td>1.000000</td>\n",
       "      <td>1.000000</td>\n",
       "      <td>1.000000</td>\n",
       "    </tr>\n",
       "  </tbody>\n",
       "</table>\n",
       "</div>"
      ],
      "text/plain": [
       "             HighBP      HighChol        Smoker           Age           Sex  \\\n",
       "count  70692.000000  70692.000000  70692.000000  70692.000000  70692.000000   \n",
       "mean       0.563458      0.525703      0.475273      8.584055      0.456997   \n",
       "std        0.495960      0.499342      0.499392      2.852153      0.498151   \n",
       "min        0.000000      0.000000      0.000000      1.000000      0.000000   \n",
       "25%        0.000000      0.000000      0.000000      7.000000      0.000000   \n",
       "50%        1.000000      1.000000      0.000000      9.000000      0.000000   \n",
       "75%        1.000000      1.000000      1.000000     11.000000      1.000000   \n",
       "max        1.000000      1.000000      1.000000     13.000000      1.000000   \n",
       "\n",
       "                BMI        Fruits  HvyAlcoholConsump  HeartDiseaseorAttack  \\\n",
       "count  70692.000000  70692.000000       70692.000000          70692.000000   \n",
       "mean      29.856985      0.611795           0.042721              0.147810   \n",
       "std        7.113954      0.487345           0.202228              0.354914   \n",
       "min       12.000000      0.000000           0.000000              0.000000   \n",
       "25%       25.000000      0.000000           0.000000              0.000000   \n",
       "50%       29.000000      1.000000           0.000000              0.000000   \n",
       "75%       33.000000      1.000000           0.000000              0.000000   \n",
       "max       98.000000      1.000000           1.000000              1.000000   \n",
       "\n",
       "       PhysActivity  Diabetes_binary  \n",
       "count  70692.000000     70692.000000  \n",
       "mean       0.703036         0.500000  \n",
       "std        0.456924         0.500004  \n",
       "min        0.000000         0.000000  \n",
       "25%        0.000000         0.000000  \n",
       "50%        1.000000         0.500000  \n",
       "75%        1.000000         1.000000  \n",
       "max        1.000000         1.000000  "
      ]
     },
     "execution_count": 10,
     "metadata": {},
     "output_type": "execute_result"
    }
   ],
   "source": [
    "#statistics summary\n",
    "diabetes_selected.describe()"
   ]
  },
  {
   "cell_type": "code",
   "execution_count": 5,
   "metadata": {},
   "outputs": [
    {
     "data": {
      "text/plain": [
       "HighBP                  0\n",
       "HighChol                0\n",
       "Smoker                  0\n",
       "Age                     0\n",
       "Sex                     0\n",
       "BMI                     0\n",
       "Fruits                  0\n",
       "HvyAlcoholConsump       0\n",
       "HeartDiseaseorAttack    0\n",
       "PhysActivity            0\n",
       "Diabetes_binary         0\n",
       "dtype: int64"
      ]
     },
     "execution_count": 5,
     "metadata": {},
     "output_type": "execute_result"
    }
   ],
   "source": [
    "#counting the missing values in numerical features\n",
    "diabetes_selected.isnull().sum()"
   ]
  },
  {
   "cell_type": "markdown",
   "metadata": {},
   "source": [
    "VISUALISING AND COMPARISM OF SOME COLUMNS"
   ]
  },
  {
   "cell_type": "code",
   "execution_count": 12,
   "metadata": {},
   "outputs": [
    {
     "data": {
      "image/png": "[encoded data removed]",
      "text/plain": [
       "<Figure size 432x288 with 1 Axes>"
      ]
     },
     "metadata": {
      "needs_background": "light"
     },
     "output_type": "display_data"
    }
   ],
   "source": [
    "diabetes_selected[\"Diabetes_binary\"].value_counts().plot(kind=\"bar\",color=[\"salmon\",\"deeppink\"])\n",
    "plt.xticks(np.arange(2), ('No Diabetes', 'Diabetes'),rotation=0);"
   ]
  },
  {
   "cell_type": "code",
   "execution_count": 13,
   "metadata": {},
   "outputs": [
    {
     "data": {
      "text/plain": [
       "array([[<AxesSubplot:title={'center':'HighBP'}>,\n",
       "        <AxesSubplot:title={'center':'HighChol'}>,\n",
       "        <AxesSubplot:title={'center':'Smoker'}>],\n",
       "       [<AxesSubplot:title={'center':'Age'}>,\n",
       "        <AxesSubplot:title={'center':'Sex'}>,\n",
       "        <AxesSubplot:title={'center':'BMI'}>],\n",
       "       [<AxesSubplot:title={'center':'Fruits'}>,\n",
       "        <AxesSubplot:title={'center':'HvyAlcoholConsump'}>,\n",
       "        <AxesSubplot:title={'center':'HeartDiseaseorAttack'}>],\n",
       "       [<AxesSubplot:title={'center':'PhysActivity'}>,\n",
       "        <AxesSubplot:title={'center':'Diabetes_binary'}>, <AxesSubplot:>]],\n",
       "      dtype=object)"
      ]
     },
     "execution_count": 13,
     "metadata": {},
     "output_type": "execute_result"
    },
    {
     "data": {
      "image/png": "[encoded data removed]",
      "text/plain": [
       "<Figure size 792x792 with 12 Axes>"
      ]
     },
     "metadata": {
      "needs_background": "light"
     },
     "output_type": "display_data"
    }
   ],
   "source": [
    "diabetes_selected.hist(figsize=(11,11))"
   ]
  },
  {
   "cell_type": "code",
   "execution_count": 14,
   "metadata": {},
   "outputs": [
    {
     "data": {
      "text/plain": [
       "<AxesSubplot:>"
      ]
     },
     "execution_count": 14,
     "metadata": {},
     "output_type": "execute_result"
    },
    {
     "data": {
      "image/png": "[encoded data removed]",
      "text/plain": [
       "<Figure size 432x288 with 1 Axes>"
      ]
     },
     "metadata": {
      "needs_background": "light"
     },
     "output_type": "display_data"
    }
   ],
   "source": [
    "diabetes_selected['Age'].value_counts(normalize=True).plot(kind='barh')"
   ]
  },
  {
   "cell_type": "code",
   "execution_count": 15,
   "metadata": {},
   "outputs": [
    {
     "data": {
      "text/plain": [
       "<AxesSubplot:>"
      ]
     },
     "execution_count": 15,
     "metadata": {},
     "output_type": "execute_result"
    },
    {
     "data": {
      "image/png": "[encoded data removed]",
      "text/plain": [
       "<Figure size 432x288 with 2 Axes>"
      ]
     },
     "metadata": {
      "needs_background": "light"
     },
     "output_type": "display_data"
    }
   ],
   "source": [
    "plt.Figure(figsize=(9,9))\n",
    "sns.heatmap(diabetes_selected.corr())"
   ]
  },
  {
   "cell_type": "markdown",
   "metadata": {},
   "source": [
    "SPLITTING THE DATASET "
   ]
  },
  {
   "cell_type": "code",
   "execution_count": 6,
   "metadata": {},
   "outputs": [],
   "source": [
    "# segregating the target variable\n",
    "X = diabetes_selected.drop(columns='Diabetes_binary')\n",
    "y = diabetes_selected['Diabetes_binary']\n",
    "#spliting\n",
    "X_train, X_test, y_train, y_test = train_test_split(X, y, test_size=0.20, random_state=0)"
   ]
  },
  {
   "cell_type": "code",
   "execution_count": 8,
   "metadata": {},
   "outputs": [
    {
     "name": "stdout",
     "output_type": "stream",
     "text": [
      "In X_train dataset there are: 56553 rows and 10 columns.\n",
      "In X_test dataset there are: 14139 rows and 10 columns.\n",
      "The shape of y_train is: (56553,)\n",
      "The shape of y_test is: (14139,)\n"
     ]
    }
   ],
   "source": [
    "print(f\"In X_train dataset there are: {X_train.shape[0]} rows and {X_train.shape[1]} columns.\")\n",
    "print(f\"In X_test dataset there are: {X_test.shape[0]} rows and {X_test.shape[1]} columns.\")\n",
    "print(f\"The shape of y_train is: {y_train.shape}\")\n",
    "print(f\"The shape of y_test is: {y_test.shape}\")"
   ]
  },
  {
   "cell_type": "markdown",
   "metadata": {},
   "source": [
    "Training the model with 5 algorithms\n",
    "1.Support Vector Machine\n",
    "2.KNN\n",
    "3.Random Forest Classifier\n",
    "4.Decision Tree\n",
    "5.Naive Bayes"
   ]
  },
  {
   "cell_type": "code",
   "execution_count": null,
   "metadata": {},
   "outputs": [],
   "source": [
    "# Support Vector Machine (SVM) Model\n",
    "svm = SVC()\n",
    "svm.fit(X_train,y_train)\n",
    "\n",
    "## Evaluating the model\n",
    "svmscore = svm.score(X_test,y_test)\n",
    "\n",
    "## Predicting the model\n",
    "preds_svm= svm.predict(X_test)\n",
    "print(preds_svm)"
   ]
  },
  {
   "cell_type": "code",
   "execution_count": 7,
   "metadata": {},
   "outputs": [
    {
     "name": "stdout",
     "output_type": "stream",
     "text": [
      "[0. 0. 0. ... 1. 1. 0.]\n"
     ]
    }
   ],
   "source": [
    "## KNN Model\n",
    "knn = KNeighborsClassifier()\n",
    "knn.fit(X_train,y_train);\n",
    "\n",
    "## Evaluating the model\n",
    "knnscore = knn.score(X_test,y_test)\n",
    "\n",
    "## Predicting the model\n",
    "preds_knn= knn.predict(X_test)\n",
    "print(preds_knn)"
   ]
  },
  {
   "cell_type": "code",
   "execution_count": 8,
   "metadata": {},
   "outputs": [
    {
     "name": "stdout",
     "output_type": "stream",
     "text": [
      "[0. 0. 0. ... 1. 0. 1.]\n"
     ]
    }
   ],
   "source": [
    "## Random forest classifier Model\n",
    "rfc= RandomForestClassifier()\n",
    "rfc.fit(X_train,y_train);\n",
    "\n",
    "## Evaluating the model\n",
    "rfcscore = rfc.score(X_test,y_test)\n",
    "\n",
    "## Predicting the model\n",
    "preds_rfc= rfc.predict(X_test)\n",
    "print(preds_rfc)"
   ]
  },
  {
   "cell_type": "code",
   "execution_count": 9,
   "metadata": {},
   "outputs": [
    {
     "name": "stdout",
     "output_type": "stream",
     "text": [
      "[0. 0. 0. ... 1. 0. 0.]\n"
     ]
    }
   ],
   "source": [
    "## Decision Tree Model\n",
    "dtm= DecisionTreeClassifier()\n",
    "dtm.fit(X_train,y_train);\n",
    "\n",
    "## Evaluating the model\n",
    "dtmscore = dtm.score(X_test,y_test)\n",
    "\n",
    "## Predicting the model\n",
    "preds_dtm= dtm.predict(X_test)\n",
    "print(preds_dtm)"
   ]
  },
  {
   "cell_type": "code",
   "execution_count": 10,
   "metadata": {},
   "outputs": [
    {
     "name": "stdout",
     "output_type": "stream",
     "text": [
      "[1. 0. 0. ... 1. 0. 0.]\n"
     ]
    }
   ],
   "source": [
    "## Naive Bayes Model\n",
    "nbm= GaussianNB()\n",
    "nbm.fit(X_train,y_train);\n",
    "\n",
    "## Evaluating the model\n",
    "nbmscore = nbm.score(X_test,y_test)\n",
    "\n",
    "## Predicting the model\n",
    "preds_nbm= nbm.predict(X_test)\n",
    "print(preds_nbm)"
   ]
  },
  {
   "cell_type": "code",
   "execution_count": 23,
   "metadata": {},
   "outputs": [
    {
     "data": {
      "image/png": "[encoded data removed]",
      "text/plain": [
       "<Figure size 1080x720 with 1 Axes>"
      ]
     },
     "metadata": {
      "needs_background": "light"
     },
     "output_type": "display_data"
    }
   ],
   "source": [
    "model_compare = pd.DataFrame({\"Support Vector Machine\":svmscore *100,\"KNN\":knnscore *100,\"Random Forest Classifier\":rfcscore *100,\"Decision Tree\":dtmscore *100,\n",
    "                              \"Naive Bayes\":nbmscore *100},\n",
    "index=[\"accuracy\"])\n",
    "model_compare.T.plot.bar(figsize=(15,10));"
   ]
  },
  {
   "cell_type": "markdown",
   "metadata": {},
   "source": [
    "Evaluating the entire system on Test Data\n"
   ]
  },
  {
   "cell_type": "code",
   "execution_count": 24,
   "metadata": {},
   "outputs": [
    {
     "name": "stdout",
     "output_type": "stream",
     "text": [
      "Support Vector Machine(SVM) accuracy_score : 72.84\n",
      "              precision    recall  f1-score   support\n",
      "\n",
      "         0.0       0.75      0.67      0.71      6932\n",
      "         1.0       0.71      0.79      0.75      7207\n",
      "\n",
      "    accuracy                           0.73     14139\n",
      "   macro avg       0.73      0.73      0.73     14139\n",
      "weighted avg       0.73      0.73      0.73     14139\n",
      "\n"
     ]
    }
   ],
   "source": [
    "# Support Vector Machine (SVM) Model\n",
    "print(f\"Support Vector Machine(SVM) accuracy_score : {'{0:.2f}'.format(accuracy_score(y_test,preds_svm)*100)}\")\n",
    "print(classification_report(y_test, preds_svm))\n"
   ]
  },
  {
   "cell_type": "code",
   "execution_count": 11,
   "metadata": {},
   "outputs": [
    {
     "name": "stdout",
     "output_type": "stream",
     "text": [
      "KNN accuracy_score : 69.57\n",
      "              precision    recall  f1-score   support\n",
      "\n",
      "         0.0       0.69      0.68      0.69      6932\n",
      "         1.0       0.70      0.71      0.70      7207\n",
      "\n",
      "    accuracy                           0.70     14139\n",
      "   macro avg       0.70      0.70      0.70     14139\n",
      "weighted avg       0.70      0.70      0.70     14139\n",
      "\n"
     ]
    }
   ],
   "source": [
    "## KNN Model\n",
    "print(f\"KNN accuracy_score : {'{0:.2f}'.format(accuracy_score(y_test,preds_knn)*100)}\")\n",
    "print(classification_report(y_test, preds_knn))\n"
   ]
  },
  {
   "cell_type": "code",
   "execution_count": 12,
   "metadata": {},
   "outputs": [
    {
     "name": "stdout",
     "output_type": "stream",
     "text": [
      "Random forest accuracy_score : 69.24\n",
      "              precision    recall  f1-score   support\n",
      "\n",
      "         0.0       0.69      0.67      0.68      6932\n",
      "         1.0       0.69      0.71      0.70      7207\n",
      "\n",
      "    accuracy                           0.69     14139\n",
      "   macro avg       0.69      0.69      0.69     14139\n",
      "weighted avg       0.69      0.69      0.69     14139\n",
      "\n"
     ]
    }
   ],
   "source": [
    "## Random forest classifier Model\n",
    "print(f\"Random forest accuracy_score : {'{0:.2f}'.format(accuracy_score(y_test,preds_rfc)*100)}\")\n",
    "print(classification_report(y_test,preds_rfc))\n"
   ]
  },
  {
   "cell_type": "code",
   "execution_count": 13,
   "metadata": {},
   "outputs": [
    {
     "name": "stdout",
     "output_type": "stream",
     "text": [
      "Decision Tree accuracy_score : 67.20\n",
      "              precision    recall  f1-score   support\n",
      "\n",
      "         0.0       0.65      0.71      0.68      6932\n",
      "         1.0       0.69      0.64      0.67      7207\n",
      "\n",
      "    accuracy                           0.67     14139\n",
      "   macro avg       0.67      0.67      0.67     14139\n",
      "weighted avg       0.67      0.67      0.67     14139\n",
      "\n"
     ]
    }
   ],
   "source": [
    "## Decision Tree Model\n",
    "print(f\"Decision Tree accuracy_score : {'{0:.2f}'.format(accuracy_score(y_test,preds_dtm)*100)}\")\n",
    "print(classification_report(y_test,preds_dtm))\n"
   ]
  },
  {
   "cell_type": "code",
   "execution_count": 14,
   "metadata": {},
   "outputs": [
    {
     "name": "stdout",
     "output_type": "stream",
     "text": [
      "Decision Tree accuracy_score : 72.26\n",
      "              precision    recall  f1-score   support\n",
      "\n",
      "         0.0       0.73      0.70      0.71      6932\n",
      "         1.0       0.72      0.75      0.73      7207\n",
      "\n",
      "    accuracy                           0.72     14139\n",
      "   macro avg       0.72      0.72      0.72     14139\n",
      "weighted avg       0.72      0.72      0.72     14139\n",
      "\n"
     ]
    }
   ],
   "source": [
    "## Naive Bayes Model\n",
    "print(f\"Decision Tree accuracy_score : {'{0:.2f}'.format(accuracy_score(y_test,preds_nbm)*100)}\")\n",
    "print(classification_report(y_test,preds_nbm))\n"
   ]
  },
  {
   "cell_type": "markdown",
   "metadata": {},
   "source": [
    "IMPLEMENTING ENSEMBLE METHOD"
   ]
  },
  {
   "cell_type": "code",
   "execution_count": 29,
   "metadata": {},
   "outputs": [
    {
     "name": "stdout",
     "output_type": "stream",
     "text": [
      "[0. 0. 0. ... 1. 0. 0.]\n"
     ]
    }
   ],
   "source": [
    "model = VotingClassifier(estimators=[('svm model', svm), ('knn model', knn), ('rfc model', rfc), ('dtm model', dtm), ('nbm model', nbm)], voting='hard')\n",
    "model.fit(X_train,y_train)\n",
    "model_score=model.score(X_test,y_test)\n",
    "preds_ensemble= model.predict(X_test)\n",
    "print(preds_ensemble)\n"
   ]
  },
  {
   "cell_type": "code",
   "execution_count": 30,
   "metadata": {},
   "outputs": [
    {
     "name": "stdout",
     "output_type": "stream",
     "text": [
      "Accuracy of Ensemble Method =71.48\n"
     ]
    }
   ],
   "source": [
    "print(f\"Accuracy of Ensemble Method ={'{0:.2f}'.format(model_score *100)}\")"
   ]
  },
  {
   "cell_type": "code",
   "execution_count": 31,
   "metadata": {},
   "outputs": [
    {
     "name": "stdout",
     "output_type": "stream",
     "text": [
      "              precision    recall  f1-score   support\n",
      "\n",
      "         0.0       0.72      0.69      0.70      6932\n",
      "         1.0       0.71      0.74      0.73      7207\n",
      "\n",
      "    accuracy                           0.71     14139\n",
      "   macro avg       0.71      0.71      0.71     14139\n",
      "weighted avg       0.71      0.71      0.71     14139\n",
      "\n"
     ]
    }
   ],
   "source": [
    "print(classification_report(y_test,preds_ensemble))"
   ]
  },
  {
   "cell_type": "markdown",
   "metadata": {},
   "source": [
    "Save the Model"
   ]
  },
  {
   "cell_type": "code",
   "execution_count": 15,
   "metadata": {},
   "outputs": [],
   "source": [
    "import pickle \n",
    "#file = open('model.pkl', 'wb') # open a file, where you ant to store the data\n",
    "pickle.dump(nbm , open('model.pkl', 'wb')) #dump information to that file"
   ]
  },
  {
   "cell_type": "code",
   "execution_count": 16,
   "metadata": {},
   "outputs": [],
   "source": [
    "m=pickle.load(open('model.pkl','rb'))"
   ]
  },
  {
   "cell_type": "code",
   "execution_count": 27,
   "metadata": {},
   "outputs": [
    {
     "data": {
      "text/plain": [
       "array([ 1.,  1.,  1.,  9.,  0., 30.,  1.,  0.,  1.,  0.,  1.])"
      ]
     },
     "execution_count": 27,
     "metadata": {},
     "output_type": "execute_result"
    }
   ],
   "source": [
    "diabetes_selected[diabetes_selected['Diabetes_binary']==1].iloc[0].values"
   ]
  },
  {
   "cell_type": "markdown",
   "metadata": {},
   "source": [
    "highbp,highcholesterol,smoker,age,sex,bmi,fruits,alcohol,hdoa,physical"
   ]
  },
  {
   "cell_type": "code",
   "execution_count": 29,
   "metadata": {},
   "outputs": [
    {
     "data": {
      "text/plain": [
       "array([1.])"
      ]
     },
     "execution_count": 29,
     "metadata": {},
     "output_type": "execute_result"
    }
   ],
   "source": [
    "m.predict([[1.,  1.,  1.,  9.,  0., 30.,  1.,  0.,  1.,  0.,]])"
   ]
  }
 ],
 "metadata": {
  "interpreter": {
   "hash": "8427c0c6c30521700c7f4d19276baf2914e9e58d242f9995447766de4b5cd224"
  },
  "kernelspec": {
   "display_name": "Python 3 (ipykernel)",
   "language": "python",
   "name": "python3"
  },
  "language_info": {
   "codemirror_mode": {
    "name": "ipython",
    "version": 3
   },
   "file_extension": ".py",
   "mimetype": "text/x-python",
   "name": "python",
   "nbconvert_exporter": "python",
   "pygments_lexer": "ipython3",
   "version": "3.9.7"
  }
 },
 "nbformat": 4,
 "nbformat_minor": 2
}
